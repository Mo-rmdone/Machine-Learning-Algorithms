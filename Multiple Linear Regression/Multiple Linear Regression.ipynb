{
 "cells": [
  {
   "cell_type": "markdown",
   "id": "e46d3963",
   "metadata": {},
   "source": [
    "## Importing Modules"
   ]
  },
  {
   "cell_type": "code",
   "execution_count": 196,
   "id": "d98b070b",
   "metadata": {},
   "outputs": [],
   "source": [
    "# Importing the necessary libraries\n",
    "import numpy as np\n",
    "import pandas as pd\n",
    "import matplotlib.pyplot as plt\n",
    "from sklearn.model_selection import train_test_split\n"
   ]
  },
  {
   "cell_type": "markdown",
   "id": "c0bc83bb",
   "metadata": {},
   "source": [
    "## Input Data"
   ]
  },
  {
   "cell_type": "code",
   "execution_count": 197,
   "id": "c2d6b7ea",
   "metadata": {},
   "outputs": [],
   "source": [
    "# Input the data set\n",
    "df = pd.read_csv(\"50_Startups.csv\")\n",
    "#df\n",
    "\n",
    "##In case you want to view data plots un-comment the following lines\n",
    "#fig, ax = plt.subplots(nrows=2, ncols=2, figsize=(8, 8))\n",
    "#fig.figsize = (10, 10)\n",
    "#ax[0, 0].scatter(df['Profit'], df['R&D Spend'],color = 'red')\n",
    "#ax[0, 1].scatter(df['Profit'], df['Administration'],color = 'yellow')\n",
    "#ax[1, 0].scatter(df['Profit'], df['Marketing Spend'], color ='green')\n",
    "#ax[1, 1].scatter(df['Profit'], df['State'],color = 'blue')\n",
    "#plt.tight_layout()"
   ]
  },
  {
   "cell_type": "markdown",
   "id": "975f6411",
   "metadata": {},
   "source": [
    "## Define features and labels"
   ]
  },
  {
   "cell_type": "code",
   "execution_count": 198,
   "id": "ec6d7ed3",
   "metadata": {},
   "outputs": [],
   "source": [
    "# Define features and labels\n",
    "x = df.iloc[:,:-1].values\n",
    "y = df.iloc[:,-1].values\n"
   ]
  },
  {
   "cell_type": "markdown",
   "id": "79306e50",
   "metadata": {},
   "source": [
    "## Converting text into columns"
   ]
  },
  {
   "cell_type": "code",
   "execution_count": 199,
   "id": "8bd4768d",
   "metadata": {},
   "outputs": [],
   "source": [
    "# Convert text data to numbers\n",
    "from sklearn.compose import ColumnTransformer\n",
    "from sklearn.preprocessing import OneHotEncoder\n",
    "ct = ColumnTransformer(transformers=[('encoder', OneHotEncoder(), [3])], remainder='passthrough')\n",
    "x = np.array(ct.fit_transform(x))\n"
   ]
  },
  {
   "cell_type": "markdown",
   "id": "145a262b",
   "metadata": {},
   "source": [
    "## Scaling Dataset"
   ]
  },
  {
   "cell_type": "code",
   "execution_count": 200,
   "id": "32687bf0",
   "metadata": {},
   "outputs": [],
   "source": [
    "# Scale the dataset\n",
    "from sklearn.preprocessing import StandardScaler\n",
    "sc = StandardScaler()\n",
    "x = sc.fit_transform(x)\n"
   ]
  },
  {
   "cell_type": "markdown",
   "id": "925291e9",
   "metadata": {},
   "source": [
    "## Separating training and testing data"
   ]
  },
  {
   "cell_type": "code",
   "execution_count": 201,
   "id": "8d909f00",
   "metadata": {},
   "outputs": [],
   "source": [
    "# Separate the dataset into training and testing## Define features and labels\n",
    "Xtrain, Xtest, Ytrain, Ytest = train_test_split( x, y, test_size = 0.3,random_state=42)\n"
   ]
  },
  {
   "cell_type": "markdown",
   "id": "2daeec6d",
   "metadata": {},
   "source": [
    "## Implementing the logic for cost function and gradient descent function"
   ]
  },
  {
   "cell_type": "code",
   "execution_count": 202,
   "id": "8a5b58ab",
   "metadata": {},
   "outputs": [],
   "source": [
    "# Creating the cost and gradient function\n",
    "#calculate cost\n",
    "def CostFunction(x,y,w,b):\n",
    "    cost = np.sum((((x.dot(w) + b) - y) ** 2) / (2*len(y)))\n",
    "    return cost"
   ]
  },
  {
   "cell_type": "code",
   "execution_count": 203,
   "id": "57693a56",
   "metadata": {},
   "outputs": [],
   "source": [
    "#Gradient Descent\n",
    "def GradientDescent(x, y, w, b, learning_rate, epochs):\n",
    "    cost_list = [0] * epochs\n",
    "   \n",
    "    for epoch in range(epochs):\n",
    "        z = x.dot(w) + b\n",
    "        loss = z - y\n",
    "        \n",
    "        weight_gradient = x.T.dot(loss) / len(y)\n",
    "        bias_gradient = np.sum(loss) / len(y)\n",
    "        \n",
    "        w = w - learning_rate*weight_gradient\n",
    "        b = b - learning_rate*bias_gradient\n",
    "  \n",
    "        cost = CostFunction(x, y, w, b)\n",
    "        cost_list[epoch] = cost\n",
    "        \n",
    "        if (epoch%(epochs/10)==0):\n",
    "            print(\"Cost is:\",cost)\n",
    "        \n",
    "    return w, b, cost_list"
   ]
  },
  {
   "cell_type": "markdown",
   "id": "c95e2162",
   "metadata": {},
   "source": [
    "## Calculating weights and bias"
   ]
  },
  {
   "cell_type": "code",
   "execution_count": 204,
   "id": "a1831ed6",
   "metadata": {},
   "outputs": [
    {
     "name": "stdout",
     "output_type": "stream",
     "text": [
      "Cost is: 6862024968.763736\n",
      "Cost is: 54828246.86923076\n",
      "Cost is: 42193865.438796364\n",
      "Cost is: 40921361.35124761\n",
      "Cost is: 40792278.51359628\n",
      "Cost is: 40779184.32760187\n",
      "Cost is: 40777856.05104652\n",
      "Cost is: 40777721.31043658\n",
      "Cost is: 40777707.64232514\n",
      "Cost is: 40777706.25582949\n"
     ]
    }
   ],
   "source": [
    "# Calculating weights and bias\n",
    "w, b, c= GradientDescent(Xtrain, Ytrain, np.zeros(Xtrain.shape[1]), 0, 0.01,epochs=5500)\n",
    "#38791988.606615104 is lowest cost achieved"
   ]
  },
  {
   "cell_type": "markdown",
   "id": "2362652a",
   "metadata": {},
   "source": [
    "## Plotting the cost function"
   ]
  },
  {
   "cell_type": "code",
   "execution_count": 205,
   "id": "e0c01eec",
   "metadata": {
    "scrolled": true
   },
   "outputs": [
    {
     "data": {
      "text/plain": [
       "[<matplotlib.lines.Line2D at 0x18a0d9f2208>]"
      ]
     },
     "execution_count": 205,
     "metadata": {},
     "output_type": "execute_result"
    },
    {
     "data": {
      "image/png": "[encoded data removed]",
      "text/plain": [
       "<Figure size 432x288 with 1 Axes>"
      ]
     },
     "metadata": {
      "needs_background": "light"
     },
     "output_type": "display_data"
    }
   ],
   "source": [
    "# Plotting the cost\n",
    "plt.plot(c)"
   ]
  },
  {
   "cell_type": "markdown",
   "id": "eb31d43a",
   "metadata": {},
   "source": [
    "## Predicting values"
   ]
  },
  {
   "cell_type": "code",
   "execution_count": 206,
   "id": "0d51a88c",
   "metadata": {},
   "outputs": [],
   "source": [
    "# Predicting labels with the calculated weights and biases\n",
    "def predict(X, w, b):\n",
    "    return X.dot(w) + b"
   ]
  },
  {
   "cell_type": "code",
   "execution_count": 207,
   "id": "b857e9a8",
   "metadata": {},
   "outputs": [],
   "source": [
    "y_pred = predict(Xtest, w, b)"
   ]
  },
  {
   "cell_type": "markdown",
   "id": "e2de7b79",
   "metadata": {},
   "source": [
    "## Calculating accuracy"
   ]
  },
  {
   "cell_type": "code",
   "execution_count": 208,
   "id": "9fed13fb",
   "metadata": {},
   "outputs": [],
   "source": [
    "# Calculating the r² accuracy of our model\n",
    "def r2score(y_pred, y):\n",
    "    rss = np.sum((y_pred - y) ** 2)\n",
    "    tss = np.sum((y-y.mean()) ** 2)\n",
    "    \n",
    "    r2 = 1 - (rss / tss)\n",
    "    return r2"
   ]
  },
  {
   "cell_type": "code",
   "execution_count": 209,
   "id": "77b5fc58",
   "metadata": {},
   "outputs": [
    {
     "data": {
      "text/plain": [
       "0.939710893315253"
      ]
     },
     "execution_count": 209,
     "metadata": {},
     "output_type": "execute_result"
    }
   ],
   "source": [
    "r2score(y_pred, Ytest)"
   ]
  }
 ],
 "metadata": {
  "kernelspec": {
   "display_name": "Python 3",
   "language": "python",
   "name": "python3"
  },
  "language_info": {
   "codemirror_mode": {
    "name": "ipython",
    "version": 3
   },
   "file_extension": ".py",
   "mimetype": "text/x-python",
   "name": "python",
   "nbconvert_exporter": "python",
   "pygments_lexer": "ipython3",
   "version": "3.7.10"
  }
 },
 "nbformat": 4,
 "nbformat_minor": 5
}
