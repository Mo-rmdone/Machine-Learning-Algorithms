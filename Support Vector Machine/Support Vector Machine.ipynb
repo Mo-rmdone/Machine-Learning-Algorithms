{
 "cells": [
  {
   "cell_type": "code",
   "execution_count": 123,
   "id": "6975d563",
   "metadata": {},
   "outputs": [],
   "source": [
    "import matplotlib.pyplot as plt\n",
    "import pandas as pd\n",
    "import numpy as np\n",
    "from sklearn.model_selection import train_test_split\n",
    "from sklearn import datasets"
   ]
  },
  {
   "cell_type": "code",
   "execution_count": 124,
   "id": "2f7e9a70",
   "metadata": {},
   "outputs": [
    {
     "data": {
      "text/plain": [
       "<matplotlib.collections.PathCollection at 0x1bca9b5de08>"
      ]
     },
     "execution_count": 124,
     "metadata": {},
     "output_type": "execute_result"
    },
    {
     "data": {
      "image/png": "[encoded data removed]",
      "text/plain": [
       "<Figure size 432x288 with 1 Axes>"
      ]
     },
     "metadata": {
      "needs_background": "light"
     },
     "output_type": "display_data"
    }
   ],
   "source": [
    "#filepath = \"Social_Network_Ads.csv\"\n",
    "x, y =  datasets.make_blobs(n_samples=50, n_features=2, centers=2, cluster_std=1.05, random_state=40)\n",
    "Xtrain,Xtest,Ytrain,Ytest = train_test_split( x, y, test_size = 0.2, random_state = 42)\n",
    "plt.scatter(X[:,0], X[:,1], marker='o',c=y)"
   ]
  },
  {
   "cell_type": "code",
   "execution_count": 125,
   "id": "de29c5a4",
   "metadata": {},
   "outputs": [
    {
     "name": "stdout",
     "output_type": "stream",
     "text": [
      "[[ -1.76558632  -9.34943001]\n",
      " [ -1.8171622   -9.22909875]\n",
      " [ -2.91411681  -9.03305688]\n",
      " [  5.19327641  -6.38845134]\n",
      " [  3.99337867  -4.90451269]\n",
      " [  4.20397723  -3.61164749]\n",
      " [ -1.76772086  -9.42358002]\n",
      " [ -3.09442079  -9.2409609 ]\n",
      " [  6.59620916  -4.32893984]\n",
      " [  8.09408178  -4.8068287 ]\n",
      " [ -1.83682056  -8.21952131]\n",
      " [  6.32916529  -5.32177094]\n",
      " [ -1.53809058  -8.77828137]\n",
      " [  3.83024448  -4.07271978]\n",
      " [  4.60302933  -4.27563422]\n",
      " [  7.12731332  -4.4394424 ]\n",
      " [  6.34072331  -4.34259999]\n",
      " [  0.56085542  -8.37942864]\n",
      " [ -0.72123914  -8.45607028]\n",
      " [ -2.05521901 -10.23141199]\n",
      " [ -1.78948268  -8.62182811]\n",
      " [  4.88954545  -3.38947816]\n",
      " [  6.05297048  -6.08234237]\n",
      " [  6.68873898  -2.44840134]\n",
      " [ -1.22856371  -7.96317275]\n",
      " [ -1.1004791   -7.78436803]\n",
      " [  5.23730283  -4.11095128]\n",
      " [ -3.34179681  -9.47382989]\n",
      " [ -1.81294631  -7.55640734]\n",
      " [ -1.81467949 -10.05599013]\n",
      " [  7.54287406  -5.35284052]\n",
      " [ -3.29446134  -7.45269997]\n",
      " [  5.67381136  -3.33963413]\n",
      " [ -2.03285195  -8.16158771]\n",
      " [ -3.25014567  -8.67304842]\n",
      " [ -0.21804625  -9.21962706]\n",
      " [  2.74565323  -4.27040575]\n",
      " [  6.64886376  -4.46203664]\n",
      " [ -0.74123127  -7.87270877]\n",
      " [  3.86649969  -4.04019832]] [0 0 0 1 1 1 0 0 1 1 0 1 0 1 1 1 1 0 0 0 0 1 1 1 0 0 1 0 0 0 1 0 1 0 0 0 1\n",
      " 1 0 1]\n"
     ]
    }
   ],
   "source": [
    "print(Xtrain,Ytrain)"
   ]
  },
  {
   "cell_type": "code",
   "execution_count": 126,
   "id": "498e675f",
   "metadata": {},
   "outputs": [],
   "source": [
    "def HingeLoss(x,y,w,b):\n",
    "    return max(0,1-y(np.dot(w,x)-b))"
   ]
  },
  {
   "cell_type": "code",
   "execution_count": 127,
   "id": "ad109b9a",
   "metadata": {},
   "outputs": [],
   "source": [
    "def Regularization():\n",
    "    pass"
   ]
  },
  {
   "cell_type": "code",
   "execution_count": 128,
   "id": "8a6744d5",
   "metadata": {},
   "outputs": [],
   "source": [
    "def GradientDescent(x,y,w,b,epochs,learning_rate):\n",
    "    lambda_param = 0.01\n",
    "    y_ = np.where(y <= 0, -1, 1)\n",
    "    for epoch in range(epochs):\n",
    "        for idx, x_i in enumerate(x):\n",
    "            condition = y_[idx] * (np.dot(x_i, w) - b) >= 1\n",
    "            if condition:\n",
    "                w -= learning_rate*(2*lambda_param*w)\n",
    "            else:\n",
    "                w -= learning_rate*(2*lambda_param*w - np.dot(x_i, y_[idx]))\n",
    "                b -= learning_rate * y_[idx]\n",
    "    \n",
    "    return w,b"
   ]
  },
  {
   "cell_type": "code",
   "execution_count": 129,
   "id": "989b8691",
   "metadata": {},
   "outputs": [
    {
     "name": "stdout",
     "output_type": "stream",
     "text": [
      "[1.01105905 0.40709871] -1.6000000000000003\n"
     ]
    }
   ],
   "source": [
    "w,b = GradientDescent(Xtrain,Ytrain,np.zeros(Xtrain.shape[1]),0,1000,0.1)\n",
    "print(w,b)"
   ]
  },
  {
   "cell_type": "code",
   "execution_count": 130,
   "id": "ed028291",
   "metadata": {},
   "outputs": [],
   "source": [
    "#for i in enumerate(x):\n",
    "    #print(i)"
   ]
  },
  {
   "cell_type": "code",
   "execution_count": 131,
   "id": "b25b11a3",
   "metadata": {},
   "outputs": [],
   "source": [
    "def predict(w,b,x):\n",
    "        approx = np.dot(x, w) - b\n",
    "        return np.sign(approx)"
   ]
  },
  {
   "cell_type": "code",
   "execution_count": 132,
   "id": "4ea5f34e",
   "metadata": {},
   "outputs": [
    {
     "name": "stdout",
     "output_type": "stream",
     "text": [
      "[ 1.  1.  1. -1.  1.  1. -1. -1. -1.  1.]\n",
      "[1 1 1 0 1 1 0 0 0 1]\n"
     ]
    }
   ],
   "source": [
    "a = predict(w,b,Xtest)\n",
    "print(a)\n",
    "print(Ytest)"
   ]
  },
  {
   "cell_type": "code",
   "execution_count": 133,
   "id": "98650140",
   "metadata": {},
   "outputs": [
    {
     "data": {
      "text/plain": [
       "<matplotlib.collections.PathCollection at 0x1bca9bc7fc8>"
      ]
     },
     "execution_count": 133,
     "metadata": {},
     "output_type": "execute_result"
    },
    {
     "data": {
      "image/png": "[encoded data removed]",
      "text/plain": [
       "<Figure size 432x288 with 1 Axes>"
      ]
     },
     "metadata": {
      "needs_background": "light"
     },
     "output_type": "display_data"
    }
   ],
   "source": [
    "plt.scatter(X[:,0], X[:,1], marker='o',c=y)\n"
   ]
  },
  {
   "cell_type": "code",
   "execution_count": null,
   "id": "f2d31f94",
   "metadata": {},
   "outputs": [],
   "source": []
  }
 ],
 "metadata": {
  "kernelspec": {
   "display_name": "Python 3",
   "language": "python",
   "name": "python3"
  },
  "language_info": {
   "codemirror_mode": {
    "name": "ipython",
    "version": 3
   },
   "file_extension": ".py",
   "mimetype": "text/x-python",
   "name": "python",
   "nbconvert_exporter": "python",
   "pygments_lexer": "ipython3",
   "version": "3.7.10"
  }
 },
 "nbformat": 4,
 "nbformat_minor": 5
}
