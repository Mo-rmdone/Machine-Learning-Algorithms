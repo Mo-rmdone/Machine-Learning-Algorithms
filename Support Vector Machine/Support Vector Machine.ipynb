{
 "cells": [
  {
   "cell_type": "code",
   "execution_count": 49,
   "id": "6975d563",
   "metadata": {},
   "outputs": [],
   "source": [
    "import matplotlib.pyplot as plt\n",
    "import pandas as pd\n",
    "import numpy as np\n",
    "from sklearn.model_selection import train_test_split\n",
    "from sklearn import datasets"
   ]
  },
  {
   "cell_type": "code",
   "execution_count": 50,
   "id": "2f7e9a70",
   "metadata": {},
   "outputs": [
    {
     "data": {
      "text/plain": [
       "<matplotlib.collections.PathCollection at 0x1b6ff916648>"
      ]
     },
     "execution_count": 50,
     "metadata": {},
     "output_type": "execute_result"
    },
    {
     "data": {
      "image/png": "[encoded data removed]",
      "text/plain": [
       "<Figure size 432x288 with 1 Axes>"
      ]
     },
     "metadata": {
      "needs_background": "light"
     },
     "output_type": "display_data"
    }
   ],
   "source": [
    "#filepath = \"Social_Network_Ads.csv\"\n",
    "x, y =  datasets.make_regression(n_samples=100, n_features=1, noise=0.7)              #datasets.make_blobs(n_samples=50, n_features=2, centers=2, cluster_std=1.05, random_state=40)\n",
    "Xtrain,Xtest,Ytrain,Ytest = train_test_split( x, y, test_size = 0.2, random_state = 42)\n",
    "plt.scatter(x,y)\n",
    "#plt.scatter(x[:,0], x[:,1], marker='o',c=y)"
   ]
  },
  {
   "cell_type": "code",
   "execution_count": 51,
   "id": "de29c5a4",
   "metadata": {},
   "outputs": [
    {
     "name": "stdout",
     "output_type": "stream",
     "text": [
      "[[-0.10535327]\n",
      " [ 0.55548323]\n",
      " [-1.00716861]\n",
      " [ 0.21909257]\n",
      " [-0.1243364 ]\n",
      " [ 0.63655482]\n",
      " [ 0.35799329]\n",
      " [ 0.39982745]\n",
      " [-1.51310969]\n",
      " [-1.25408963]\n",
      " [-1.21395919]\n",
      " [-1.1548531 ]\n",
      " [-0.79496545]\n",
      " [ 0.84858824]\n",
      " [ 0.44313369]\n",
      " [-0.39279043]\n",
      " [-1.58667055]\n",
      " [-1.83614011]\n",
      " [-0.49715288]\n",
      " [ 0.5559672 ]\n",
      " [ 1.27402072]\n",
      " [-0.82290787]\n",
      " [ 0.68169522]\n",
      " [ 1.26134243]\n",
      " [ 0.1137322 ]\n",
      " [ 0.30968363]\n",
      " [-0.9543692 ]\n",
      " [ 0.98958269]\n",
      " [ 1.04266489]\n",
      " [ 0.68312768]\n",
      " [-0.04643039]\n",
      " [-0.02559506]\n",
      " [ 0.31738833]\n",
      " [ 2.06010744]\n",
      " [ 0.15318121]\n",
      " [ 2.25362096]\n",
      " [ 1.61677571]\n",
      " [ 2.58615036]\n",
      " [-1.34588479]\n",
      " [-0.27863873]\n",
      " [ 1.3199754 ]\n",
      " [-0.17933693]\n",
      " [-0.8954579 ]\n",
      " [ 0.64323853]\n",
      " [-0.68766697]\n",
      " [-1.00247296]\n",
      " [-0.26251162]\n",
      " [-1.24800865]\n",
      " [ 0.60230558]\n",
      " [ 0.2354376 ]\n",
      " [ 1.38421023]\n",
      " [-1.82270647]\n",
      " [-1.53023428]\n",
      " [-0.77569267]\n",
      " [ 0.17160113]\n",
      " [ 0.26648935]\n",
      " [-2.13498957]\n",
      " [ 0.51401801]\n",
      " [-2.26988765]\n",
      " [-1.16097606]\n",
      " [ 1.77255537]\n",
      " [ 0.3059167 ]\n",
      " [ 0.06244063]\n",
      " [ 1.69927207]\n",
      " [-0.34668339]\n",
      " [ 0.70846751]\n",
      " [ 1.56151697]\n",
      " [ 0.37240879]\n",
      " [ 1.44575859]\n",
      " [-0.39780961]\n",
      " [-0.6321906 ]\n",
      " [-0.0795934 ]\n",
      " [-0.00642472]\n",
      " [-0.84533344]\n",
      " [ 0.53876085]\n",
      " [ 0.34147404]\n",
      " [ 0.07361357]\n",
      " [ 0.09361425]\n",
      " [ 0.65576427]\n",
      " [-1.12689074]] [ -2.69687755  17.81495202 -28.35586529   6.36799193  -2.67032339\n",
      "  18.89030246  10.43167458  13.10778537 -44.26243708 -35.09796735\n",
      " -36.506329   -33.05110056 -22.57965585  24.67946959  12.85247311\n",
      " -11.99756481 -47.78715597 -53.37840479 -14.66230396  16.76206465\n",
      "  37.06625952 -24.70843578  19.69722514  36.24340218   3.65441187\n",
      "   9.96928286 -28.16373563  29.62958538  30.82859301  19.34632081\n",
      "  -0.60445388  -0.45190477   9.84002467  62.00926692   5.35486562\n",
      "  66.11430996  49.38910759  75.70030721 -39.71244403  -8.08511978\n",
      "  38.06256221  -5.259726   -27.54455653  18.39946153 -19.91619751\n",
      " -29.36759469  -7.77488411 -38.06414448  17.08162823   7.12715993\n",
      "  41.32666432 -53.32926188 -45.20908894 -21.42982907   4.70074674\n",
      "   8.56695267 -61.72200013  14.7597223  -66.14104711 -33.80428278\n",
      "  50.95829123   8.59739419   0.36500776  50.62100288 -10.77260576\n",
      "  21.12346669  46.27623391  11.22726192  41.78929807 -10.86742177\n",
      " -19.04048211  -3.4808659   -1.08145565 -23.82335264  15.45625399\n",
      "   9.68187554   1.94815438   2.47117509  19.10494363 -32.92553194]\n"
     ]
    }
   ],
   "source": [
    "print(Xtrain,Ytrain)"
   ]
  },
  {
   "cell_type": "code",
   "execution_count": 52,
   "id": "498e675f",
   "metadata": {},
   "outputs": [],
   "source": [
    "def HingeLoss(x,y,w,b):\n",
    "    return max(0,1-y(np.dot(w,x)-b))"
   ]
  },
  {
   "cell_type": "code",
   "execution_count": 53,
   "id": "ad109b9a",
   "metadata": {},
   "outputs": [],
   "source": [
    "def Regularization():\n",
    "    pass"
   ]
  },
  {
   "cell_type": "code",
   "execution_count": 54,
   "id": "8a6744d5",
   "metadata": {},
   "outputs": [],
   "source": [
    "def GradientDescent(x,y,w,b,epochs,learning_rate):\n",
    "    lambda_param = 0.01\n",
    "    y_ = np.where(y <= 0, -1, 1)\n",
    "    for epoch in range(epochs):\n",
    "        for idx, x_i in enumerate(x):\n",
    "            condition = y_[idx] * (np.dot(x_i, w) - b) >= 1\n",
    "            if condition:\n",
    "                w -= learning_rate*(2*lambda_param*w)\n",
    "            else:\n",
    "                w -= learning_rate*(2*lambda_param*w - np.dot(x_i, y_[idx]))\n",
    "                b -= learning_rate * y_[idx]\n",
    "    \n",
    "    return w,b"
   ]
  },
  {
   "cell_type": "code",
   "execution_count": 55,
   "id": "989b8691",
   "metadata": {},
   "outputs": [
    {
     "name": "stdout",
     "output_type": "stream",
     "text": [
      "[1.74280329] -0.27168000000013093\n"
     ]
    }
   ],
   "source": [
    "w,b = GradientDescent(Xtrain,Ytrain,np.zeros(Xtrain.shape[1]),0,10000,0.00001)\n",
    "print(w,b)"
   ]
  },
  {
   "cell_type": "code",
   "execution_count": 56,
   "id": "ed028291",
   "metadata": {},
   "outputs": [],
   "source": [
    "#for i in enumerate(x):\n",
    "    #print(i)"
   ]
  },
  {
   "cell_type": "code",
   "execution_count": 57,
   "id": "b25b11a3",
   "metadata": {},
   "outputs": [],
   "source": [
    "def predict(w,b,x):\n",
    "        approx = np.dot(x, w) - b\n",
    "        return np.sign(approx)"
   ]
  },
  {
   "cell_type": "code",
   "execution_count": 58,
   "id": "4ea5f34e",
   "metadata": {},
   "outputs": [
    {
     "name": "stdout",
     "output_type": "stream",
     "text": [
      "[ 1.  1. -1. -1. -1. -1. -1.  1.  1.  1.  1. -1. -1. -1.  1.  1. -1. -1.\n",
      " -1.  1.]\n",
      "[ 11.71365579  47.85538483 -31.32654695 -41.04974013 -25.69101843\n",
      " -30.07370059 -35.55087963   8.10544522   4.76884097  29.11202814\n",
      "  33.74080869 -32.20884204 -30.98627843 -15.24608095   5.00236007\n",
      "  37.21876221  -5.26492499 -56.88201158  -6.6915309   21.52016471]\n"
     ]
    }
   ],
   "source": [
    "a = predict(w,b,Xtest)\n",
    "print(a)\n",
    "print(Ytest)"
   ]
  },
  {
   "cell_type": "code",
   "execution_count": 59,
   "id": "98650140",
   "metadata": {},
   "outputs": [
    {
     "data": {
      "text/plain": [
       "[<matplotlib.lines.Line2D at 0x1b6ff97d048>]"
      ]
     },
     "execution_count": 59,
     "metadata": {},
     "output_type": "execute_result"
    },
    {
     "data": {
      "image/png": "[encoded data removed]",
      "text/plain": [
       "<Figure size 432x288 with 1 Axes>"
      ]
     },
     "metadata": {
      "needs_background": "light"
     },
     "output_type": "display_data"
    }
   ],
   "source": [
    "#plt.scatter(x, y)\n",
    "plt.plot(a)"
   ]
  },
  {
   "cell_type": "code",
   "execution_count": null,
   "id": "f2d31f94",
   "metadata": {},
   "outputs": [],
   "source": []
  }
 ],
 "metadata": {
  "kernelspec": {
   "display_name": "Python 3",
   "language": "python",
   "name": "python3"
  },
  "language_info": {
   "codemirror_mode": {
    "name": "ipython",
    "version": 3
   },
   "file_extension": ".py",
   "mimetype": "text/x-python",
   "name": "python",
   "nbconvert_exporter": "python",
   "pygments_lexer": "ipython3",
   "version": "3.7.10"
  }
 },
 "nbformat": 4,
 "nbformat_minor": 5
}
