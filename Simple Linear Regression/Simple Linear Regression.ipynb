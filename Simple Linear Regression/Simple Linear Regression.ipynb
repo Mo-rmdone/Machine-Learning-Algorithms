{
 "cells": [
  {
   "cell_type": "markdown",
   "id": "9761c875",
   "metadata": {},
   "source": [
    "# Simple Linear Regression Model from Scratch"
   ]
  },
  {
   "cell_type": "markdown",
   "id": "352b1e4c",
   "metadata": {},
   "source": [
    "## Importing Required Libraries"
   ]
  },
  {
   "cell_type": "code",
   "execution_count": 54,
   "id": "27d1c505",
   "metadata": {},
   "outputs": [],
   "source": [
    "import matplotlib.pyplot as plt\n",
    "import pandas as pd\n",
    "import numpy as np\n",
    "from sklearn.model_selection import train_test_split\n"
   ]
  },
  {
   "cell_type": "markdown",
   "id": "98d4a9ac",
   "metadata": {},
   "source": [
    "## Specify file path of dataset"
   ]
  },
  {
   "cell_type": "code",
   "execution_count": 55,
   "id": "7899cef2",
   "metadata": {},
   "outputs": [],
   "source": [
    "filepath = \"Salary_Data.csv\"\n"
   ]
  },
  {
   "cell_type": "markdown",
   "id": "d89c0351",
   "metadata": {},
   "source": [
    "## Importing data"
   ]
  },
  {
   "cell_type": "code",
   "execution_count": 68,
   "id": "416ed4c8",
   "metadata": {},
   "outputs": [],
   "source": [
    "df = pd.read_csv(filepath)\n",
    "\n",
    "x = df.iloc[:,0].values\n",
    "y = df.iloc[:,1].values"
   ]
  },
  {
   "cell_type": "markdown",
   "id": "ccbcbbcc",
   "metadata": {},
   "source": [
    "## Splitting data for training and testing"
   ]
  },
  {
   "cell_type": "code",
   "execution_count": 57,
   "id": "5f17504d",
   "metadata": {},
   "outputs": [],
   "source": [
    "Xtrain, Xtest, Ytrain, Ytest = train_test_split( x, y, test_size = 0.2, random_state = 42)\n"
   ]
  },
  {
   "cell_type": "markdown",
   "id": "3dda35f0",
   "metadata": {},
   "source": [
    "## Linear Regression Class"
   ]
  },
  {
   "cell_type": "code",
   "execution_count": 58,
   "id": "f587b570",
   "metadata": {},
   "outputs": [],
   "source": [
    "class LinearRegression():\n",
    "\n",
    "    def __init__(self,X,Y):\n",
    "        self.X = X\n",
    "        self.Y = Y\n",
    "        self.B = 0\n",
    "        self.c = 0\n",
    "    \n",
    "    def get_mean(self):\n",
    "        return np.mean(self.X),np.mean(self.Y)\n",
    "\n",
    "    def fit(self):\n",
    "        numerator, denominator = 0,0\n",
    "        x_mean,y_mean = self.get_mean()\n",
    "        for i in range(len(self.X)):\n",
    "            numerator += ((self.X[i])-(x_mean))*((self.Y[i])-(y_mean))\n",
    "            denominator += ((self.X[i])-(x_mean))**2\n",
    "        self.B = numerator/denominator\n",
    "        self.c = y_mean - (self.B*x_mean)\n",
    "    \n",
    "    def predict(self,xtest,ytest):\n",
    "        plt.scatter(xtest,ytest,color = 'red')\n",
    "        plt.plot(xtest,(self.B*xtest)+self.c,color = 'green')\n",
    "        plt.show()\n",
    "    \n",
    "    def plot(self):\n",
    "        plt.scatter(self.X,self.Y,color = 'red')\n",
    "        plt.plot(self.X,(self.B*self.X)+self.c,color = 'green')\n",
    "        plt.show()\n",
    "        \n",
    "    def calculate_accuracy(self,x,y):\n",
    "        x_mean,y_mean = self.get_mean()\n",
    "        ss_t = 0\n",
    "        ss_r = 0\n",
    "        for i in range(len(x)):\n",
    "            y_pred = (self.B*x[i]) + self.c\n",
    "            ss_t += (y[i] - y_mean) ** 2\n",
    "            ss_r += (y[i] - y_pred) ** 2\n",
    "        r2 = 1 - (ss_r/ss_t)\n",
    "        return r2\n",
    "    "
   ]
  },
  {
   "cell_type": "markdown",
   "id": "85b83b93",
   "metadata": {},
   "source": [
    "## Using the Class"
   ]
  },
  {
   "cell_type": "code",
   "execution_count": 59,
   "id": "6c9484b2",
   "metadata": {},
   "outputs": [],
   "source": [
    "#instantiate object of class with training data\n",
    "lr = LinearRegression(Xtrain,Ytrain)"
   ]
  },
  {
   "cell_type": "code",
   "execution_count": 60,
   "id": "ad82d520",
   "metadata": {},
   "outputs": [],
   "source": [
    "#calculate missing parameters of the equation y = b0*x + b1\n",
    "lr.fit()"
   ]
  },
  {
   "cell_type": "code",
   "execution_count": 61,
   "id": "ae0e87ec",
   "metadata": {},
   "outputs": [
    {
     "data": {
      "text/plain": [
       "(5.1875, 74207.625)"
      ]
     },
     "execution_count": 61,
     "metadata": {},
     "output_type": "execute_result"
    }
   ],
   "source": [
    "#get the mean calculated in the process\n",
    "lr.get_mean()"
   ]
  },
  {
   "cell_type": "code",
   "execution_count": 62,
   "id": "625d9b45",
   "metadata": {},
   "outputs": [
    {
     "data": {
      "image/png": "[encoded data removed]",
      "text/plain": [
       "<Figure size 432x288 with 1 Axes>"
      ]
     },
     "metadata": {
      "needs_background": "light"
     },
     "output_type": "display_data"
    }
   ],
   "source": [
    "#plot the training data and line of the calculated equation\n",
    "lr.plot()"
   ]
  },
  {
   "cell_type": "code",
   "execution_count": 63,
   "id": "1becd05c",
   "metadata": {},
   "outputs": [
    {
     "data": {
      "image/png": "[encoded data removed]",
      "text/plain": [
       "<Figure size 432x288 with 1 Axes>"
      ]
     },
     "metadata": {
      "needs_background": "light"
     },
     "output_type": "display_data"
    }
   ],
   "source": [
    "#plot the test data and line of the calculated equation\n",
    "lr.predict(Xtest,Ytest)"
   ]
  },
  {
   "cell_type": "code",
   "execution_count": 64,
   "id": "712e9989",
   "metadata": {},
   "outputs": [
    {
     "data": {
      "text/plain": [
       "0.9645401573418146"
      ]
     },
     "execution_count": 64,
     "metadata": {},
     "output_type": "execute_result"
    }
   ],
   "source": [
    "#calculate accuracy using r^2 method of training data\n",
    "lr.calculate_accuracy(Xtrain,Ytrain)"
   ]
  },
  {
   "cell_type": "code",
   "execution_count": 66,
   "id": "1ae0777f",
   "metadata": {},
   "outputs": [
    {
     "data": {
      "text/plain": [
       "0.9157393256196166"
      ]
     },
     "execution_count": 66,
     "metadata": {},
     "output_type": "execute_result"
    }
   ],
   "source": [
    "#calculate accuracy using r^2 method of training data\n",
    "lr.calculate_accuracy(Xtest,Ytest)"
   ]
  },
  {
   "cell_type": "code",
   "execution_count": null,
   "id": "b0f01fda",
   "metadata": {},
   "outputs": [],
   "source": []
  }
 ],
 "metadata": {
  "kernelspec": {
   "display_name": "Python 3",
   "language": "python",
   "name": "python3"
  },
  "language_info": {
   "codemirror_mode": {
    "name": "ipython",
    "version": 3
   },
   "file_extension": ".py",
   "mimetype": "text/x-python",
   "name": "python",
   "nbconvert_exporter": "python",
   "pygments_lexer": "ipython3",
   "version": "3.7.10"
  }
 },
 "nbformat": 4,
 "nbformat_minor": 5
}
